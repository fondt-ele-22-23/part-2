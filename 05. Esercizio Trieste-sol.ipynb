{
 "cells": [
  {
   "cell_type": "markdown",
   "metadata": {
    "slideshow": {
     "slide_type": "slide"
    }
   },
   "source": [
    "# Esempio: Il Batiscafo Trieste"
   ]
  },
  {
   "cell_type": "markdown",
   "metadata": {
    "slideshow": {
     "slide_type": "subslide"
    }
   },
   "source": [
    "## Esempio: il Batiscafo Trieste\n",
    "\n",
    "**Nel 1960 il batiscafo \"Trieste\" discese alla profondità di 10911 metri**\n",
    "\n",
    "<center>\n",
    "<img src=\"assets/trieste.jpg\" width=40%/>\n",
    "</center>\n",
    "\n",
    "* Un batiscafo si muove (verso l'alto o il basso)\n",
    "* ...Bilanciando l'effetto della forza di galleggiamento e di gravità\n",
    "* ...Usando una zavorra per variare la massa del veicolo\n",
    "\n",
    "**Proveremo a calcolare alcune forze agenti su un veicolo simile**"
   ]
  },
  {
   "cell_type": "markdown",
   "metadata": {
    "slideshow": {
     "slide_type": "subslide"
    }
   },
   "source": [
    "## Esempio: il Batiscafo Trieste\n",
    "\n",
    "**Consideriamo la forza di gravità (equivalente) agente sul batiscafo**\n",
    "\n",
    "Assumento un asse $y$ orientato verso l'alto, questa è data da:\n",
    "\n",
    "$$\n",
    "F_g = -g (m_s + m_b + m_f)\n",
    "$$\n",
    "\n",
    "Dove $g$ è l'accelarazione di gravità e:\n",
    "\n",
    "* $m_s$ è la massa equivalente (galleggiamento incluso) della cabina\n",
    "* $m_b$ quella della zavorra e $m_s$ quella del galleggiante\n",
    "\n",
    "Se assumiam che il galleggiante sia sferico, abbiamo che:\n",
    "\n",
    "$$\n",
    "m_f = \\rho_f V_f \\quad \\text{con: } V_f = \\frac{4}{3}\\pi r^3\n",
    "$$\n",
    "\n",
    "Dove $\\rho_f$ è la densità del galleggiante e $r$ il suo raggio"
   ]
  },
  {
   "cell_type": "markdown",
   "metadata": {
    "slideshow": {
     "slide_type": "subslide"
    }
   },
   "source": [
    "## Esempio: il Batiscafo Trieste\n",
    "\n",
    "**Nelle celle seguenti, si calcoli il valore della forza $F_g$**\n",
    "\n",
    "Si stampino anche i valori di $V_f$ ed $m_f$"
   ]
  },
  {
   "cell_type": "code",
   "execution_count": 20,
   "metadata": {},
   "outputs": [
    {
     "name": "stdout",
     "output_type": "stream",
     "text": [
      "V_f: 33.510, m_f: 32806.264, F_g: -477386.619\n"
     ]
    }
   ],
   "source": [
    "rho_f = 979\n",
    "m_s = 8000\n",
    "m_b = 9000 - 1143\n",
    "g = 9.81\n",
    "r = 2\n",
    "pi = 3.14156\n",
    "\n",
    "V_f = 4 / 3 * pi * r**3\n",
    "m_f = rho_f * V_f\n",
    "F_g = - g * (m_s + m_b + m_f)\n",
    "print(f'V_f: {V_f:.3f}, m_f: {m_f:.3f}, F_g: {F_g:.3f}')"
   ]
  },
  {
   "cell_type": "markdown",
   "metadata": {
    "slideshow": {
     "slide_type": "subslide"
    }
   },
   "source": [
    "## Esempio: il Batiscafo Trieste\n",
    "\n",
    "**Consideriamo la forza di galleggiamento agente sul galleggiante**\n",
    "\n",
    "Questa è data da:\n",
    "\n",
    "$$\n",
    "F_b = g \\rho_w V_f\n",
    "$$"
   ]
  },
  {
   "cell_type": "markdown",
   "metadata": {},
   "source": [
    "**Nella cella seguente, si calcoli il valore di $F_b$**"
   ]
  },
  {
   "cell_type": "code",
   "execution_count": 33,
   "metadata": {},
   "outputs": [
    {
     "name": "stdout",
     "output_type": "stream",
     "text": [
      "F_b: 41091.605\n"
     ]
    }
   ],
   "source": [
    "rho_w = 1000\n",
    "\n",
    "F_b = g * rho_w * V_f\n",
    "print(f'F_b: {F_b:.3f}')"
   ]
  },
  {
   "cell_type": "markdown",
   "metadata": {
    "slideshow": {
     "slide_type": "subslide"
    }
   },
   "source": [
    "## Esempio: il Batiscafo Trieste\n",
    "\n",
    "**Nella cella seguente, si determini (approssimativamente) un valore di $r$...**\n",
    "\n",
    "...Tale per cui $F_g$ ed $F_b$ si compensano"
   ]
  },
  {
   "cell_type": "code",
   "execution_count": 62,
   "metadata": {},
   "outputs": [
    {
     "name": "stdout",
     "output_type": "stream",
     "text": [
      "F_g: -7407454.917, F_b: 7407454.287, differenza: -0.630\n"
     ]
    }
   ],
   "source": [
    "rho_f = 979\n",
    "rho_w = 1000\n",
    "m_s = 8000\n",
    "m_b = 9000 - 1143\n",
    "g = 9.81\n",
    "r = 5.649005\n",
    "pi = 3.14156\n",
    "\n",
    "V_f = 4 / 3 * pi * r**3\n",
    "m_f = rho_f * V_f\n",
    "F_g = - g * (m_s + m_b + m_f)\n",
    "F_b = g * rho_w * V_f\n",
    "\n",
    "print(f'F_g: {F_g:.3f}, F_b: {F_b:.3f}, differenza: {F_g + F_b:.3f}')"
   ]
  }
 ],
 "metadata": {
  "celltoolbar": "Slideshow",
  "kernelspec": {
   "display_name": "Python 3 (ipykernel)",
   "language": "python",
   "name": "python3"
  },
  "language_info": {
   "codemirror_mode": {
    "name": "ipython",
    "version": 3
   },
   "file_extension": ".py",
   "mimetype": "text/x-python",
   "name": "python",
   "nbconvert_exporter": "python",
   "pygments_lexer": "ipython3",
   "version": "3.9.5"
  },
  "rise": {
   "center": false,
   "enable_chalkboard": true,
   "transition": "fade"
  }
 },
 "nbformat": 4,
 "nbformat_minor": 4
}
